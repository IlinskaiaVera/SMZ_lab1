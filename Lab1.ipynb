{
  "nbformat": 4,
  "nbformat_minor": 0,
  "metadata": {
    "colab": {
      "provenance": []
    },
    "kernelspec": {
      "name": "python3",
      "display_name": "Python 3"
    },
    "language_info": {
      "name": "python"
    }
  },
  "cells": [
    {
      "cell_type": "code",
      "source": [
        "import torch\n",
        "import torch.nn.functional as F\n",
        "import numpy as np"
      ],
      "metadata": {
        "id": "23v5nLKjgWdf"
      },
      "execution_count": 7,
      "outputs": []
    },
    {
      "cell_type": "markdown",
      "source": [
        "###Реализация функции Convolution 2D"
      ],
      "metadata": {
        "id": "2jeDh_zygK3v"
      }
    },
    {
      "cell_type": "code",
      "source": [
        "def Convolution2D(image, kernel, stride = 1, padding = 0):\n",
        "    #stride - шаг, с помощью которого мы двигаем ядро свёртки по входному тензору\n",
        "    #нахождение размеров изображения и ядра\n",
        "    image_height, image_width = image.shape\n",
        "    kernel_height, kernel_width = kernel.shape\n",
        "    #нахождение размеров результирующего изображения\n",
        "    result_height = int((image_height - kernel_height + 2 * padding) / stride) + 1\n",
        "    result_width = int((image_width - kernel_width + 2 * padding) / stride) + 1\n",
        "    #создание результирующего изображения\n",
        "    result = np.zeros((result_height, result_width))\n",
        "    #добавление padding (добавление нулей вокруг входной матрицы)\n",
        "    if padding > 0:\n",
        "        image = np.pad(image, padding, mode = 'constant')\n",
        "    #проход ядром по изображению\n",
        "    for y in range(result_height):\n",
        "        for x in range(result_width):\n",
        "            result[y, x] = np.sum(image[y*stride:y*stride+kernel_height, x*stride:x*stride+kernel_width] * kernel)\n",
        "    return result"
      ],
      "metadata": {
        "id": "ZVeRVg2-fEfd"
      },
      "execution_count": 8,
      "outputs": []
    },
    {
      "cell_type": "markdown",
      "source": [
        "###Тест 1"
      ],
      "metadata": {
        "id": "XpGH0OM3gS6n"
      }
    },
    {
      "cell_type": "code",
      "source": [
        "image = torch.randn(1, 1, 5, 5)  #задание изображения\n",
        "kernel = torch.randn(1, 1, 3, 3)  #задание ядра свёртки\n",
        "#результат использования нашей функции Convolution2D\n",
        "test1_output1 = Convolution2D(image[0, 0].numpy(), kernel[0, 0].numpy())\n",
        "print(\"Результат использования нашей функции Convolution2D в тесте 1:\")\n",
        "print(test1_output1)\n",
        "print(\"\\nРезультат использования функции Conv2d библиотеки PyTorch в тесте 1:\")\n",
        "test1_output2 = F.conv2d(image, kernel)\n",
        "print(test1_output2)"
      ],
      "metadata": {
        "colab": {
          "base_uri": "https://localhost:8080/"
        },
        "id": "J0E_2tvJfE8d",
        "outputId": "68d3e4dc-e561-4096-b177-78c2bfe4e677"
      },
      "execution_count": 9,
      "outputs": [
        {
          "output_type": "stream",
          "name": "stdout",
          "text": [
            "Результат использования нашей функции Convolution2D в тесте 1:\n",
            "[[ 0.49464083  3.51855898  1.39028502]\n",
            " [ 0.10425329  2.86361623  1.90627527]\n",
            " [ 0.80307114  4.48781681 -3.52397227]]\n",
            "\n",
            "Результат использования функции Conv2d библиотеки PyTorch в тесте 1:\n",
            "tensor([[[[ 0.4946,  3.5186,  1.3903],\n",
            "          [ 0.1043,  2.8636,  1.9063],\n",
            "          [ 0.8031,  4.4878, -3.5240]]]])\n"
          ]
        }
      ]
    },
    {
      "cell_type": "markdown",
      "source": [
        "###Тест 2"
      ],
      "metadata": {
        "id": "x6hjT8PzhCvI"
      }
    },
    {
      "cell_type": "code",
      "source": [
        "image = torch.randn(1, 1, 5, 5)  #задание изображения\n",
        "kernel = torch.randn(1, 1, 3, 3)  #задание ядра свёртки\n",
        "#результат использования нашей функции Convolution2D\n",
        "test2_output1 = Convolution2D(image[0, 0].numpy(), kernel[0, 0].numpy())\n",
        "print(\"Результат использования нашей функции Convolution2D в тесте 2:\")\n",
        "print(test2_output1)\n",
        "print(\"\\nРезультат использования функции Conv2d библиотеки PyTorch в тесте 2:\")\n",
        "test2_output2 = F.conv2d(image, kernel)\n",
        "print(test2_output2)"
      ],
      "metadata": {
        "colab": {
          "base_uri": "https://localhost:8080/"
        },
        "id": "X-elwEv0hGLh",
        "outputId": "872eac56-0c02-4365-d66d-7edeb124b0aa"
      },
      "execution_count": 10,
      "outputs": [
        {
          "output_type": "stream",
          "name": "stdout",
          "text": [
            "Результат использования нашей функции Convolution2D в тесте 2:\n",
            "[[ 0.07428968  0.11373711 -2.14445972]\n",
            " [-0.95122957 -0.96126676 -2.47257471]\n",
            " [ 0.77612293  1.06222141 -1.62786138]]\n",
            "\n",
            "Результат использования функции Conv2d библиотеки PyTorch в тесте 2:\n",
            "tensor([[[[ 0.0743,  0.1137, -2.1445],\n",
            "          [-0.9512, -0.9613, -2.4726],\n",
            "          [ 0.7761,  1.0622, -1.6279]]]])\n"
          ]
        }
      ]
    },
    {
      "cell_type": "markdown",
      "source": [
        "###Тест 3"
      ],
      "metadata": {
        "id": "n4YCsEkdhMp4"
      }
    },
    {
      "cell_type": "code",
      "source": [
        "image = torch.randn(1, 1, 5, 5)  #задание изображения\n",
        "kernel = torch.randn(1, 1, 3, 3)  #задание ядра свёртки\n",
        "#результат использования нашей функции Convolution2D\n",
        "test3_output1 = Convolution2D(image[0, 0].numpy(), kernel[0, 0].numpy())\n",
        "print(\"Результат использования нашей функции Convolution2D в тесте 3:\")\n",
        "print(test3_output1)\n",
        "print(\"\\nРезультат использования функции Conv2d библиотеки PyTorch в тесте 3:\")\n",
        "test3_output2 = F.conv2d(image, kernel)\n",
        "print(test3_output2)"
      ],
      "metadata": {
        "colab": {
          "base_uri": "https://localhost:8080/"
        },
        "id": "rBdMmv0jhNVv",
        "outputId": "088f2fe8-3606-4025-ccc1-bc9db364426f"
      },
      "execution_count": 12,
      "outputs": [
        {
          "output_type": "stream",
          "name": "stdout",
          "text": [
            "Результат использования нашей функции Convolution2D в тесте 3:\n",
            "[[-0.15780884 -2.11644721 -0.08168559]\n",
            " [ 0.47271878 -2.3847003  -0.57830918]\n",
            " [ 3.32607532 -1.11378038 -3.27566242]]\n",
            "\n",
            "Результат использования функции Conv2d библиотеки PyTorch в тесте 3:\n",
            "tensor([[[[-0.1578, -2.1164, -0.0817],\n",
            "          [ 0.4727, -2.3847, -0.5783],\n",
            "          [ 3.3261, -1.1138, -3.2757]]]])\n"
          ]
        }
      ]
    }
  ]
}